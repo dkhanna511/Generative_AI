{
 "cells": [
  {
   "cell_type": "markdown",
   "id": "31937c3b",
   "metadata": {},
   "source": [
    "## In this notebook, We'll see about Multi searhch Agent RAG. \n",
    "This is  RAG which can fetch data from multiple sources like **arxiv**, **wiki**, **PDFs**, and LLM uses this data to give a final response.\n",
    "\n",
    "Different Components to learn in this:\n",
    "\n",
    "1. Tool (Langchain toolkit)\n",
    "2. Agents in RAG"
   ]
  },
  {
   "cell_type": "code",
   "execution_count": 1,
   "id": "362fbdc9",
   "metadata": {},
   "outputs": [],
   "source": [
    "## Creating a wrapper on top of wikipedia\n",
    "\n",
    "from langchain_community.tools import WikipediaQueryRun\n",
    "from langchain_community.utilities import WikipediaAPIWrapper\n"
   ]
  },
  {
   "cell_type": "code",
   "execution_count": 14,
   "id": "b80bfadc",
   "metadata": {},
   "outputs": [],
   "source": [
    "api_wrapper = WikipediaAPIWrapper(top_k_results = 1, doc_content_chars_max= 200)  ## 200 is the number of characters here \n",
    "wiki = WikipediaQueryRun(api_wrapper = api_wrapper)"
   ]
  },
  {
   "cell_type": "code",
   "execution_count": 15,
   "id": "9134b17e",
   "metadata": {},
   "outputs": [
    {
     "data": {
      "text/plain": [
       "'wikipedia'"
      ]
     },
     "execution_count": 15,
     "metadata": {},
     "output_type": "execute_result"
    }
   ],
   "source": [
    "wiki.name  ## it will return wikipedia"
   ]
  },
  {
   "cell_type": "code",
   "execution_count": 8,
   "id": "5acc11c0",
   "metadata": {},
   "outputs": [
    {
     "name": "stderr",
     "output_type": "stream",
     "text": [
      "/tmp/ipykernel_1087309/3366568754.py:12: LangChainDeprecationWarning: The class `OllamaEmbeddings` was deprecated in LangChain 0.3.1 and will be removed in 1.0.0. An updated version of the class exists in the :class:`~langchain-ollama package and should be used instead. To use it run `pip install -U :class:`~langchain-ollama` and import as `from :class:`~langchain_ollama import OllamaEmbeddings``.\n",
      "  vectordb = FAISS.from_documents(document, OllamaEmbeddings(model =\"all-minilm\"))\n"
     ]
    },
    {
     "data": {
      "text/plain": [
       "VectorStoreRetriever(tags=['FAISS', 'OllamaEmbeddings'], vectorstore=<langchain_community.vectorstores.faiss.FAISS object at 0x72f0727216f0>, search_kwargs={})"
      ]
     },
     "execution_count": 8,
     "metadata": {},
     "output_type": "execute_result"
    }
   ],
   "source": [
    "### Now, we will be fetching data from a website (like scraping)\n",
    "from langchain_community.document_loaders import WebBaseLoader\n",
    "from langchain_community.vectorstores import FAISS\n",
    "from langchain_openai import OpenAIEmbeddings\n",
    "from langchain_community.embeddings import OllamaEmbeddings\n",
    "\n",
    "from langchain_text_splitters import RecursiveCharacterTextSplitter\n",
    "\n",
    "loader = WebBaseLoader(\"https://docs.smith.langchain.com/\")\n",
    "docs = loader.load()\n",
    "document  = RecursiveCharacterTextSplitter(chunk_size = 1000, chunk_overlap = 200).split_documents(docs)\n",
    "vectordb = FAISS.from_documents(document, OllamaEmbeddings(model =\"all-minilm\"))\n",
    "retriever = vectordb.as_retriever()\n",
    "retriever"
   ]
  },
  {
   "cell_type": "code",
   "execution_count": 9,
   "id": "b9076152",
   "metadata": {},
   "outputs": [],
   "source": [
    "from langchain.tools.retriever import create_retriever_tool\n",
    "retriever_tool = create_retriever_tool(retriever, 'langsmith_search',\n",
    "                      \" Search for information about LangSmith. For any question about Langsmith, you must use this tool.\")\n"
   ]
  },
  {
   "cell_type": "code",
   "execution_count": 10,
   "id": "8ebcc845",
   "metadata": {},
   "outputs": [
    {
     "data": {
      "text/plain": [
       "'langsmith_search'"
      ]
     },
     "execution_count": 10,
     "metadata": {},
     "output_type": "execute_result"
    }
   ],
   "source": [
    "retriever_tool.name"
   ]
  },
  {
   "cell_type": "code",
   "execution_count": 13,
   "id": "d82304b5",
   "metadata": {},
   "outputs": [
    {
     "data": {
      "text/plain": [
       "'arxiv'"
      ]
     },
     "execution_count": 13,
     "metadata": {},
     "output_type": "execute_result"
    }
   ],
   "source": [
    "from langchain_community.utilities import ArxivAPIWrapper\n",
    "from langchain_community.tools import ArxivQueryRun\n",
    "arxiv_wrapper = ArxivAPIWrapper(top_k_results = 1, doc_content_chars_max=200)\n",
    "arxiv = ArxivQueryRun(api_wrapper = arxiv_wrapper)\n",
    "\n",
    "arxiv.name"
   ]
  },
  {
   "cell_type": "code",
   "execution_count": 18,
   "id": "274f73c2",
   "metadata": {},
   "outputs": [],
   "source": [
    "tools = [wiki, arxiv, retriever_tool]\n"
   ]
  },
  {
   "cell_type": "code",
   "execution_count": 33,
   "id": "b981ecbd",
   "metadata": {},
   "outputs": [],
   "source": [
    "from dotenv import load_dotenv\n",
    "import os\n",
    "# os.environ['OPENAI_API_KEY'] = os.getenv(\"OPENAI_API_KEY\")\n",
    "# from langchain_openai import ChatOpenAI\n",
    "from langchain_community.llms import Ollama\n",
    "from langchain_community.chat_models import ChatOllama\n",
    "\n",
    "\n",
    "llm = ChatOllama(model = \"gemma3:1b\")\n",
    "\n"
   ]
  },
  {
   "cell_type": "code",
   "execution_count": 34,
   "id": "06137535",
   "metadata": {},
   "outputs": [
    {
     "name": "stderr",
     "output_type": "stream",
     "text": [
      "/home/dheeraj/anaconda3/envs/genai/lib/python3.10/site-packages/langsmith/client.py:272: LangSmithMissingAPIKeyWarning: API key must be provided when using hosted LangSmith API\n",
      "  warnings.warn(\n"
     ]
    },
    {
     "data": {
      "text/plain": [
       "[SystemMessagePromptTemplate(prompt=PromptTemplate(input_variables=[], input_types={}, partial_variables={}, template='You are a helpful assistant'), additional_kwargs={}),\n",
       " MessagesPlaceholder(variable_name='chat_history', optional=True),\n",
       " HumanMessagePromptTemplate(prompt=PromptTemplate(input_variables=['input'], input_types={}, partial_variables={}, template='{input}'), additional_kwargs={}),\n",
       " MessagesPlaceholder(variable_name='agent_scratchpad')]"
      ]
     },
     "execution_count": 34,
     "metadata": {},
     "output_type": "execute_result"
    }
   ],
   "source": [
    "## Now we need to query from this list of tools\n",
    "## We will use some 'agents' for this. \n",
    "\n",
    "from langchain import hub\n",
    "\n",
    "## Get the prompt to use - you can modify this\n",
    "prompt = hub.pull(\"hwchase17/openai-functions-agent\")\n",
    "prompt.messages\n"
   ]
  },
  {
   "cell_type": "code",
   "execution_count": 35,
   "id": "8fe61250",
   "metadata": {},
   "outputs": [],
   "source": [
    "\n",
    "## Agents\n",
    "from langchain.agents import create_openai_tools_agent\n",
    "agent = create_openai_tools_agent(llm, tools, prompt)"
   ]
  },
  {
   "cell_type": "code",
   "execution_count": 36,
   "id": "7db10b3c",
   "metadata": {},
   "outputs": [
    {
     "data": {
      "text/plain": [
       "AgentExecutor(verbose=True, agent=RunnableMultiActionAgent(runnable=RunnableAssign(mapper={\n",
       "  agent_scratchpad: RunnableLambda(lambda x: format_to_openai_tool_messages(x['intermediate_steps']))\n",
       "})\n",
       "| ChatPromptTemplate(input_variables=['agent_scratchpad', 'input'], optional_variables=['chat_history'], input_types={'chat_history': list[typing.Annotated[typing.Union[typing.Annotated[langchain_core.messages.ai.AIMessage, Tag(tag='ai')], typing.Annotated[langchain_core.messages.human.HumanMessage, Tag(tag='human')], typing.Annotated[langchain_core.messages.chat.ChatMessage, Tag(tag='chat')], typing.Annotated[langchain_core.messages.system.SystemMessage, Tag(tag='system')], typing.Annotated[langchain_core.messages.function.FunctionMessage, Tag(tag='function')], typing.Annotated[langchain_core.messages.tool.ToolMessage, Tag(tag='tool')], typing.Annotated[langchain_core.messages.ai.AIMessageChunk, Tag(tag='AIMessageChunk')], typing.Annotated[langchain_core.messages.human.HumanMessageChunk, Tag(tag='HumanMessageChunk')], typing.Annotated[langchain_core.messages.chat.ChatMessageChunk, Tag(tag='ChatMessageChunk')], typing.Annotated[langchain_core.messages.system.SystemMessageChunk, Tag(tag='SystemMessageChunk')], typing.Annotated[langchain_core.messages.function.FunctionMessageChunk, Tag(tag='FunctionMessageChunk')], typing.Annotated[langchain_core.messages.tool.ToolMessageChunk, Tag(tag='ToolMessageChunk')]], FieldInfo(annotation=NoneType, required=True, discriminator=Discriminator(discriminator=<function _get_type at 0x72f08b0f7e20>, custom_error_type=None, custom_error_message=None, custom_error_context=None))]], 'agent_scratchpad': list[typing.Annotated[typing.Union[typing.Annotated[langchain_core.messages.ai.AIMessage, Tag(tag='ai')], typing.Annotated[langchain_core.messages.human.HumanMessage, Tag(tag='human')], typing.Annotated[langchain_core.messages.chat.ChatMessage, Tag(tag='chat')], typing.Annotated[langchain_core.messages.system.SystemMessage, Tag(tag='system')], typing.Annotated[langchain_core.messages.function.FunctionMessage, Tag(tag='function')], typing.Annotated[langchain_core.messages.tool.ToolMessage, Tag(tag='tool')], typing.Annotated[langchain_core.messages.ai.AIMessageChunk, Tag(tag='AIMessageChunk')], typing.Annotated[langchain_core.messages.human.HumanMessageChunk, Tag(tag='HumanMessageChunk')], typing.Annotated[langchain_core.messages.chat.ChatMessageChunk, Tag(tag='ChatMessageChunk')], typing.Annotated[langchain_core.messages.system.SystemMessageChunk, Tag(tag='SystemMessageChunk')], typing.Annotated[langchain_core.messages.function.FunctionMessageChunk, Tag(tag='FunctionMessageChunk')], typing.Annotated[langchain_core.messages.tool.ToolMessageChunk, Tag(tag='ToolMessageChunk')]], FieldInfo(annotation=NoneType, required=True, discriminator=Discriminator(discriminator=<function _get_type at 0x72f08b0f7e20>, custom_error_type=None, custom_error_message=None, custom_error_context=None))]]}, partial_variables={'chat_history': []}, metadata={'lc_hub_owner': 'hwchase17', 'lc_hub_repo': 'openai-functions-agent', 'lc_hub_commit_hash': 'a1655024b06afbd95d17449f21316291e0726f13dcfaf990cc0d18087ad689a5'}, messages=[SystemMessagePromptTemplate(prompt=PromptTemplate(input_variables=[], input_types={}, partial_variables={}, template='You are a helpful assistant'), additional_kwargs={}), MessagesPlaceholder(variable_name='chat_history', optional=True), HumanMessagePromptTemplate(prompt=PromptTemplate(input_variables=['input'], input_types={}, partial_variables={}, template='{input}'), additional_kwargs={}), MessagesPlaceholder(variable_name='agent_scratchpad')])\n",
       "| RunnableBinding(bound=ChatOllama(model='gemma3:1b'), kwargs={'tools': [{'type': 'function', 'function': {'name': 'wikipedia', 'description': 'A wrapper around Wikipedia. Useful for when you need to answer general questions about people, places, companies, facts, historical events, or other subjects. Input should be a search query.', 'parameters': {'properties': {'query': {'description': 'query to look up on wikipedia', 'type': 'string'}}, 'required': ['query'], 'type': 'object'}}}, {'type': 'function', 'function': {'name': 'arxiv', 'description': 'A wrapper around Arxiv.org Useful for when you need to answer questions about Physics, Mathematics, Computer Science, Quantitative Biology, Quantitative Finance, Statistics, Electrical Engineering, and Economics from scientific articles on arxiv.org. Input should be a search query.', 'parameters': {'properties': {'query': {'description': 'search query to look up', 'type': 'string'}}, 'required': ['query'], 'type': 'object'}}}, {'type': 'function', 'function': {'name': 'langsmith_search', 'description': ' Search for information about LangSmith. For any question about Langsmith, you must use this tool.', 'parameters': {'properties': {'query': {'description': 'query to look up in retriever', 'type': 'string'}}, 'required': ['query'], 'type': 'object'}}}]}, config={}, config_factories=[])\n",
       "| OpenAIToolsAgentOutputParser(), input_keys_arg=[], return_keys_arg=[], stream_runnable=True), tools=[WikipediaQueryRun(api_wrapper=WikipediaAPIWrapper(wiki_client=<module 'wikipedia' from '/home/dheeraj/anaconda3/envs/genai/lib/python3.10/site-packages/wikipedia/__init__.py'>, top_k_results=1, lang='en', load_all_available_meta=False, doc_content_chars_max=200)), ArxivQueryRun(api_wrapper=ArxivAPIWrapper(arxiv_search=<class 'arxiv.Search'>, arxiv_exceptions=(<class 'arxiv.ArxivError'>, <class 'arxiv.UnexpectedEmptyPageError'>, <class 'arxiv.HTTPError'>), top_k_results=1, ARXIV_MAX_QUERY_LENGTH=300, continue_on_failure=False, load_max_docs=100, load_all_available_meta=False, doc_content_chars_max=200)), Tool(name='langsmith_search', description=' Search for information about LangSmith. For any question about Langsmith, you must use this tool.', args_schema=<class 'langchain_core.tools.retriever.RetrieverInput'>, func=functools.partial(<function _get_relevant_documents at 0x72f064038160>, retriever=VectorStoreRetriever(tags=['FAISS', 'OllamaEmbeddings'], vectorstore=<langchain_community.vectorstores.faiss.FAISS object at 0x72f0727216f0>, search_kwargs={}), document_prompt=PromptTemplate(input_variables=['page_content'], input_types={}, partial_variables={}, template='{page_content}'), document_separator='\\n\\n', response_format='content'), coroutine=functools.partial(<function _aget_relevant_documents at 0x72f0640381f0>, retriever=VectorStoreRetriever(tags=['FAISS', 'OllamaEmbeddings'], vectorstore=<langchain_community.vectorstores.faiss.FAISS object at 0x72f0727216f0>, search_kwargs={}), document_prompt=PromptTemplate(input_variables=['page_content'], input_types={}, partial_variables={}, template='{page_content}'), document_separator='\\n\\n', response_format='content'))])"
      ]
     },
     "execution_count": 36,
     "metadata": {},
     "output_type": "execute_result"
    }
   ],
   "source": [
    "### Agnt executor\n",
    "from langchain.agents import AgentExecutor\n",
    "agent_executor  = AgentExecutor(agent = agent, tools = tools, verbose = True)\n",
    "agent_executor"
   ]
  },
  {
   "cell_type": "code",
   "execution_count": 38,
   "id": "1053c471",
   "metadata": {},
   "outputs": [
    {
     "name": "stdout",
     "output_type": "stream",
     "text": [
      "\n",
      "\n",
      "\u001b[1m> Entering new AgentExecutor chain...\u001b[0m\n",
      "\u001b[32;1m\u001b[1;3mOkay, let's dive into Machine Learning! It’s a really exciting and rapidly growing field, and it’s becoming increasingly important in our lives. Here's a breakdown of what it is, how it works, and why it's significant:\n",
      "\n",
      "**1. What is Machine Learning?**\n",
      "\n",
      "At its core, Machine Learning (ML) is about **giving computers the ability to learn from data without being explicitly programmed.** Instead of writing detailed rules for every situation, we feed the computer a lot of data, and it figures out the patterns and relationships on its own.  Think of it as teaching a computer to “think” like a human, but with a lot more mathematical precision.\n",
      "\n",
      "**2. Key Concepts & Types**\n",
      "\n",
      "* **Data:** This is the fuel for machine learning. The more high-quality data you have, the better the model will perform.\n",
      "* **Algorithms:** These are the formulas and processes that allow the computer to learn from the data. There are many different types of algorithms, each suited for different tasks.\n",
      "* **Training:** The process of feeding data to the algorithm so it can learn.  The algorithm adjusts its internal settings to minimize errors and improve its predictions.\n",
      "* **Prediction:** After training, the algorithm can use what it's learned to make predictions about new, unseen data. \n",
      "\n",
      "\n",
      "**3. Types of Machine Learning**\n",
      "\n",
      "There are several main types, but here are some of the most popular:\n",
      "\n",
      "* **Supervised Learning:**  The algorithm learns from labeled data – meaning the data comes with known answers.  For example:\n",
      "    * **Classification:**  Predicting categories (e.g., spam/not spam, cat/dog).\n",
      "    * **Regression:** Predicting continuous values (e.g., predicting house prices, stock prices).\n",
      "* **Unsupervised Learning:** The algorithm learns from unlabeled data – it has to find patterns and groupings on its own.  Examples include:\n",
      "    * **Clustering:** Grouping similar data points together (e.g., customer segmentation).\n",
      "    * **Dimensionality Reduction:** Simplifying data by reducing the number of variables while retaining important information (e.g., simplifying images).\n",
      "* **Reinforcement Learning:** The algorithm learns by trial and error, receiving rewards or penalties for its actions.  Think of training a robot or a game-playing AI.\n",
      "\n",
      "\n",
      "\n",
      "**4. How Machine Learning Works (Simplified)**\n",
      "\n",
      "1. **Data Collection:** Gather a large dataset relevant to the task you want to solve.\n",
      "2. **Data Preparation:** Clean, transform, and prepare the data – this often involves handling missing values, outliers, and scaling the data.\n",
      "3. **Model Selection:** Choose an appropriate algorithm based on the task and data.\n",
      "4. **Training:**  Feed the data to the algorithm to train it.\n",
      "5. **Validation:** Use a separate set of data to test how well the model generalizes to new data.\n",
      "6. **Testing:** Evaluate the model's performance on a final, unseen dataset to assess its accuracy.\n",
      "7. **Deployment:**  Use the trained model to make predictions on new data.\n",
      "\n",
      "**5.  Popular Machine Learning Applications**\n",
      "\n",
      "* **Recommendation Systems (Netflix, Amazon, Spotify):**  Suggesting things you might like.\n",
      "* **Image Recognition (Facial Recognition, Medical Imaging):** Identifying objects and people in images.\n",
      "* **Natural Language Processing (Chatbots, Translation):** Understanding and generating human language.\n",
      "* **Fraud Detection:**  Identifying suspicious transactions.\n",
      "* **Self-Driving Cars:**  Helping vehicles navigate and make decisions.\n",
      "* **Healthcare:**  Diagnosing diseases, personalizing treatment.\n",
      "\n",
      "\n",
      "**6. Resources for Learning More**\n",
      "\n",
      "* **Coursera - Machine Learning by Andrew Ng:** ([https://www.coursera.org/learn/machine-learning](https://www.coursera.org/learn/machine-learning)) – A popular and introductory course.\n",
      "* **Google AI Education:** ([https://ai.google/education/](https://ai.google/education/)) -  Offers a broad range of resources.\n",
      "* **Towards Data Science:** ([https://towardsdatascience.com/](https://towardsdatascience.com/)) -  A great resource for articles and tutorials.\n",
      "\n",
      "---\n",
      "\n",
      "**To help me tailor this information to your interests, could you tell me:**\n",
      "\n",
      "*   **What are you hoping to learn about Machine Learning?** (e.g., Are you curious about its applications, the underlying math, or a specific type of algorithm?)\n",
      "*   **What is your current level of knowledge about this topic?** (Are you a complete beginner, or do you have some basic understanding?)\u001b[0m\n",
      "\n",
      "\u001b[1m> Finished chain.\u001b[0m\n"
     ]
    },
    {
     "data": {
      "text/plain": [
       "{'input': 'Tell me about Machine Learning',\n",
       " 'output': \"Okay, let's dive into Machine Learning! It’s a really exciting and rapidly growing field, and it’s becoming increasingly important in our lives. Here's a breakdown of what it is, how it works, and why it's significant:\\n\\n**1. What is Machine Learning?**\\n\\nAt its core, Machine Learning (ML) is about **giving computers the ability to learn from data without being explicitly programmed.** Instead of writing detailed rules for every situation, we feed the computer a lot of data, and it figures out the patterns and relationships on its own.  Think of it as teaching a computer to “think” like a human, but with a lot more mathematical precision.\\n\\n**2. Key Concepts & Types**\\n\\n* **Data:** This is the fuel for machine learning. The more high-quality data you have, the better the model will perform.\\n* **Algorithms:** These are the formulas and processes that allow the computer to learn from the data. There are many different types of algorithms, each suited for different tasks.\\n* **Training:** The process of feeding data to the algorithm so it can learn.  The algorithm adjusts its internal settings to minimize errors and improve its predictions.\\n* **Prediction:** After training, the algorithm can use what it's learned to make predictions about new, unseen data. \\n\\n\\n**3. Types of Machine Learning**\\n\\nThere are several main types, but here are some of the most popular:\\n\\n* **Supervised Learning:**  The algorithm learns from labeled data – meaning the data comes with known answers.  For example:\\n    * **Classification:**  Predicting categories (e.g., spam/not spam, cat/dog).\\n    * **Regression:** Predicting continuous values (e.g., predicting house prices, stock prices).\\n* **Unsupervised Learning:** The algorithm learns from unlabeled data – it has to find patterns and groupings on its own.  Examples include:\\n    * **Clustering:** Grouping similar data points together (e.g., customer segmentation).\\n    * **Dimensionality Reduction:** Simplifying data by reducing the number of variables while retaining important information (e.g., simplifying images).\\n* **Reinforcement Learning:** The algorithm learns by trial and error, receiving rewards or penalties for its actions.  Think of training a robot or a game-playing AI.\\n\\n\\n\\n**4. How Machine Learning Works (Simplified)**\\n\\n1. **Data Collection:** Gather a large dataset relevant to the task you want to solve.\\n2. **Data Preparation:** Clean, transform, and prepare the data – this often involves handling missing values, outliers, and scaling the data.\\n3. **Model Selection:** Choose an appropriate algorithm based on the task and data.\\n4. **Training:**  Feed the data to the algorithm to train it.\\n5. **Validation:** Use a separate set of data to test how well the model generalizes to new data.\\n6. **Testing:** Evaluate the model's performance on a final, unseen dataset to assess its accuracy.\\n7. **Deployment:**  Use the trained model to make predictions on new data.\\n\\n**5.  Popular Machine Learning Applications**\\n\\n* **Recommendation Systems (Netflix, Amazon, Spotify):**  Suggesting things you might like.\\n* **Image Recognition (Facial Recognition, Medical Imaging):** Identifying objects and people in images.\\n* **Natural Language Processing (Chatbots, Translation):** Understanding and generating human language.\\n* **Fraud Detection:**  Identifying suspicious transactions.\\n* **Self-Driving Cars:**  Helping vehicles navigate and make decisions.\\n* **Healthcare:**  Diagnosing diseases, personalizing treatment.\\n\\n\\n**6. Resources for Learning More**\\n\\n* **Coursera - Machine Learning by Andrew Ng:** ([https://www.coursera.org/learn/machine-learning](https://www.coursera.org/learn/machine-learning)) – A popular and introductory course.\\n* **Google AI Education:** ([https://ai.google/education/](https://ai.google/education/)) -  Offers a broad range of resources.\\n* **Towards Data Science:** ([https://towardsdatascience.com/](https://towardsdatascience.com/)) -  A great resource for articles and tutorials.\\n\\n---\\n\\n**To help me tailor this information to your interests, could you tell me:**\\n\\n*   **What are you hoping to learn about Machine Learning?** (e.g., Are you curious about its applications, the underlying math, or a specific type of algorithm?)\\n*   **What is your current level of knowledge about this topic?** (Are you a complete beginner, or do you have some basic understanding?)\"}"
      ]
     },
     "execution_count": 38,
     "metadata": {},
     "output_type": "execute_result"
    }
   ],
   "source": [
    "agent_executor.invoke({\"input\" : \"Tell me about Machine Learning\"})\n",
    "\n"
   ]
  },
  {
   "cell_type": "code",
   "execution_count": 39,
   "id": "1fc8bcb2",
   "metadata": {},
   "outputs": [
    {
     "name": "stdout",
     "output_type": "stream",
     "text": [
      "\n",
      "\n",
      "\u001b[1m> Entering new AgentExecutor chain...\u001b[0m\n",
      "\u001b[32;1m\u001b[1;3mOkay, let's delve into the complex topic of Elon Musk. It's a really interesting and frequently debated subject, and there's no simple answer – he's a figure of immense influence and considerable controversy. Here’s a breakdown of my perspective, combining various viewpoints and observations:\n",
      "\n",
      "**Here's a balanced look at his key aspects:**\n",
      "\n",
      "**What I find compelling (Reasons to appreciate him):**\n",
      "\n",
      "* **Visionary Thinking & Risk-Taking:** Musk is undeniably a brilliant and audacious entrepreneur. He’s constantly pushing boundaries and envisioning things that others deem impossible. His ideas around space travel, electric vehicles, and autonomous systems are genuinely fascinating and could have a significant impact on humanity.\n",
      "* **Innovation & Disruption:** He's inspired a wave of innovation across numerous industries. Tesla, SpaceX, and Neuralink are all examples of companies that have fundamentally altered how people interact with technology and transportation.\n",
      "* **Public Engagement & Advocacy:** Musk is known for his outspokenness and often controversial stances, which can be energizing for many. He's passionate about pushing for technological progress and challenging established norms.\n",
      "* **Creating Jobs & Opportunities:**  His companies have created hundreds of thousands of jobs globally, demonstrating a clear economic benefit.\n",
      "\n",
      "**However, I also have significant concerns and criticisms:**\n",
      "\n",
      "* **Leadership Style & Culture:** Musk's leadership style is often described as chaotic and demanding. He frequently clashes with employees and has been criticized for creating a high-pressure work environment that can be stressful for many.\n",
      "* **Business Practices & Ethics:** His companies have faced scrutiny regarding worker treatment, environmental impact, and ethical considerations surrounding AI development.  For example, concerns have been raised about Tesla's labor practices and the environmental impact of his companies.\n",
      "* **Twitter/X – Controversies & Impact:** His decision to purchase Twitter/X has been intensely debated. The platform's shift to a more autocratic approach, perceived issues with misinformation, and ongoing legal battles have generated significant public concern. \n",
      "* **Speculation & Lack of Transparency:**  Much of Musk's public statements are shrouded in speculation, and he sometimes appears to be less than forthcoming about strategic decisions. \n",
      "\n",
      "**Overall Assessment:**\n",
      "\n",
      "Elon Musk is a truly unique and significant figure. He’s a symbol of ambition, innovation, and potentially disruptive change. However, his actions and decisions are subject to a lot of scrutiny, and it's crucial to consider the potential consequences of his choices, particularly when it comes to his companies’ impact on society. \n",
      "\n",
      "**Ultimately, it's a complex character with a lot of potential for both good and harm.** \n",
      "\n",
      "**Resources for Further Reading & Perspectives:**\n",
      "\n",
      "* **Forbes:** [https://www.forbes.com/sites/elonmusk/2024/04/26/elon-musk-overview-a-summary-of-his-career-and-business-strategy/?sh=652365f7d393](https://www.forbes.com/sites/elonmusk/2024/04/26/elon-musk-overview-a-summary-of-his-career-and-business-strategy/?sh=652365f7d393)\n",
      "* **The Guardian:** [https://www.theguardian.com/technology/elon-musk](https://www.theguardian.com/technology/elon-musk)\n",
      "* **Reuters:** [https://www.reuters.com/technology/elon-musk-interview-recent-challenges-2024-04-26/](https://www.reuters.com/technology/elon-musk-interview-recent-challenges-2024-04-26/)\n",
      "\n",
      "\n",
      "---\n",
      "\n",
      "**To help me tailor my response further, could you tell me:**\n",
      "\n",
      "*   What specifically are you interested in knowing about Elon Musk? (e.g., his business strategy, his personal life, his future plans?)\u001b[0m\n",
      "\n",
      "\u001b[1m> Finished chain.\u001b[0m\n"
     ]
    },
    {
     "data": {
      "text/plain": [
       "{'input': 'What is your opinion on Elon Musk?',\n",
       " 'output': \"Okay, let's delve into the complex topic of Elon Musk. It's a really interesting and frequently debated subject, and there's no simple answer – he's a figure of immense influence and considerable controversy. Here’s a breakdown of my perspective, combining various viewpoints and observations:\\n\\n**Here's a balanced look at his key aspects:**\\n\\n**What I find compelling (Reasons to appreciate him):**\\n\\n* **Visionary Thinking & Risk-Taking:** Musk is undeniably a brilliant and audacious entrepreneur. He’s constantly pushing boundaries and envisioning things that others deem impossible. His ideas around space travel, electric vehicles, and autonomous systems are genuinely fascinating and could have a significant impact on humanity.\\n* **Innovation & Disruption:** He's inspired a wave of innovation across numerous industries. Tesla, SpaceX, and Neuralink are all examples of companies that have fundamentally altered how people interact with technology and transportation.\\n* **Public Engagement & Advocacy:** Musk is known for his outspokenness and often controversial stances, which can be energizing for many. He's passionate about pushing for technological progress and challenging established norms.\\n* **Creating Jobs & Opportunities:**  His companies have created hundreds of thousands of jobs globally, demonstrating a clear economic benefit.\\n\\n**However, I also have significant concerns and criticisms:**\\n\\n* **Leadership Style & Culture:** Musk's leadership style is often described as chaotic and demanding. He frequently clashes with employees and has been criticized for creating a high-pressure work environment that can be stressful for many.\\n* **Business Practices & Ethics:** His companies have faced scrutiny regarding worker treatment, environmental impact, and ethical considerations surrounding AI development.  For example, concerns have been raised about Tesla's labor practices and the environmental impact of his companies.\\n* **Twitter/X – Controversies & Impact:** His decision to purchase Twitter/X has been intensely debated. The platform's shift to a more autocratic approach, perceived issues with misinformation, and ongoing legal battles have generated significant public concern. \\n* **Speculation & Lack of Transparency:**  Much of Musk's public statements are shrouded in speculation, and he sometimes appears to be less than forthcoming about strategic decisions. \\n\\n**Overall Assessment:**\\n\\nElon Musk is a truly unique and significant figure. He’s a symbol of ambition, innovation, and potentially disruptive change. However, his actions and decisions are subject to a lot of scrutiny, and it's crucial to consider the potential consequences of his choices, particularly when it comes to his companies’ impact on society. \\n\\n**Ultimately, it's a complex character with a lot of potential for both good and harm.** \\n\\n**Resources for Further Reading & Perspectives:**\\n\\n* **Forbes:** [https://www.forbes.com/sites/elonmusk/2024/04/26/elon-musk-overview-a-summary-of-his-career-and-business-strategy/?sh=652365f7d393](https://www.forbes.com/sites/elonmusk/2024/04/26/elon-musk-overview-a-summary-of-his-career-and-business-strategy/?sh=652365f7d393)\\n* **The Guardian:** [https://www.theguardian.com/technology/elon-musk](https://www.theguardian.com/technology/elon-musk)\\n* **Reuters:** [https://www.reuters.com/technology/elon-musk-interview-recent-challenges-2024-04-26/](https://www.reuters.com/technology/elon-musk-interview-recent-challenges-2024-04-26/)\\n\\n\\n---\\n\\n**To help me tailor my response further, could you tell me:**\\n\\n*   What specifically are you interested in knowing about Elon Musk? (e.g., his business strategy, his personal life, his future plans?)\"}"
      ]
     },
     "execution_count": 39,
     "metadata": {},
     "output_type": "execute_result"
    }
   ],
   "source": [
    "agent_executor.invoke({\"input\" : \"What is your opinion on Elon Musk?\"})\n"
   ]
  },
  {
   "cell_type": "code",
   "execution_count": null,
   "id": "967eb98e",
   "metadata": {},
   "outputs": [],
   "source": []
  }
 ],
 "metadata": {
  "kernelspec": {
   "display_name": "genai",
   "language": "python",
   "name": "python3"
  },
  "language_info": {
   "codemirror_mode": {
    "name": "ipython",
    "version": 3
   },
   "file_extension": ".py",
   "mimetype": "text/x-python",
   "name": "python",
   "nbconvert_exporter": "python",
   "pygments_lexer": "ipython3",
   "version": "3.10.18"
  }
 },
 "nbformat": 4,
 "nbformat_minor": 5
}
