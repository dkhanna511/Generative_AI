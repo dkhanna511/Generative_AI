{
 "cells": [
  {
   "cell_type": "code",
   "execution_count": 2,
   "id": "e7cd2782",
   "metadata": {},
   "outputs": [
    {
     "data": {
      "text/plain": [
       "[Document(metadata={'source': 'speech.txt'}, page_content='In all probability this will be my last speech to you. Even if the Government allow me to march tomorrow morning, this will be my last speech on the sacred banks of the Sabarmati. Possibly these may be the last words of my life here.\\n\\nI have already told you yesterday what I had to say. Today I shall confine myself to what you should do after my companions and I are arrested. The programme of the march to Jalalpur must be fulfilled as originally settled. The enlistment of the volunteers for this purpose should be confined to Gujarat only. From what I have been and heard during the last fortnight, I am inclined to believe that the stream of civil resisters will flow unbroken.\\n\\nBut let there be not a semblance of breach of peace even after all of us have been arrested. We have resolved to utilize all our resources in the pursuit of an exclusively nonviolent struggle. Let no one commit a wrong in anger. This is my hope and prayer. I wish these words of mine reached every nook and corner of the land. My task shall be done if I perish and so do my comrades. It will then be for the Working Committee of the Congress to show you the way and it will be up to you to follow its lead. So long as I have reached Jalalpur, let nothing be done in contravention to the authority vested in me by the Congress. But once I am arrested, the whole responsibility shifts to the Congress. No one who believes in non-violence, as a creed, need, therefore, sit still. My compact with the Congress ends as soon as I am arrested. In that case volunteers. Wherever possible, civil disobedience of salt should be started. These laws can be violated in three ways. It is an offence to manufacture salt wherever there are facilities for doing so. The possession and sale of contraband salt, which includes natural salt or salt earth, is also an offence. The purchasers of such salt will be equally guilty. To carry away the natural salt deposits on the seashore is likewise violation of law. So is the hawking of such salt. In short, you may choose any one or all of these devices to break the salt monopoly.\\n\\nWe are, however, not to be content with this alone. There is no ban by the Congress and wherever the local workers have self-confidence other suitable measures may be adopted. I stress only one condition, namely, let our pledge of truth and nonviolence as the only means for the attainment of Swaraj be faithfully kept. For the rest, every one has a free hand. But, than does not give a license to all and sundry to carry on their own responsibility. Wherever there are local leaders, their orders should be obeyed by the people. Where there are no leaders and only a handful of men have faith in the programme, they may do what they can, if they have enough self-confidence. They have a right, nay it is their duty, to do so. The history of the is full of instances of men who rose to leadership, by sheer force of self-confidence, bravery and tenacity. We too, if we sincerely aspire to Swaraj and are impatient to attain it, should have similar self-confidence. Our ranks will swell and our hearts strengthen, as the number of our arrests by the Government increases.\\n\\nMuch can be done in many other ways besides these. The Liquor and foreign cloth shops can be picketed. We can refuse to pay taxes if we have the requisite strength. The lawyers can give up practice. The public can boycott the law courts by refraining from litigation. Government servants can resign their posts. In the midst of the despair reigning all round people quake with fear of losing employment. Such men are unfit for Swaraj. But why this despair? The number of Government servants in the country does not exceed a few hundred thousands. What about the rest? Where are they to go? Even free India will not be able to accommodate a greater number of public servants. A Collector then will not need the number of servants, he has got today. He will be his own servant. Our starving millions can by no means afford this enormous expenditure. If, therefore, we are sensible enough, let us bid good-bye to Government employment, no matter if it is the post of a judge or a peon. Let all who are co-operating with the Government in one way or another, be it by paying taxes, keeping titles, or sending children to official schools, etc. withdraw their co-operation in all or as many watts as possible. Then there are women who can stand shoulder to shoulder with men in this struggle.\\n\\nYou may take it as my will. It was the message that I desired to impart to you before starting on the march or for the jail. I wish that there should be no suspension or abandonment of the war that commences tomorrow morning or earlier, if I am arrested before that time. I shall eagerly await the news that ten batches are ready as soon as my batch is arrested. I believe there are men in India to complete the work our begun by me. I have faith in the righteousness of our cause and the purity of our weapons. And where the means are clean, there God is undoubtedly present with His blessings. And where these three combine, there defeat is an impossibility. A Satyagrahi, whether free or incarcerated, is ever victorious. He is vanquished only, when he forsakes truth and nonviolence and turns a deaf ear to the inner voice. If, therefore, there is such a thing as defeat for even a Satyagrahi, he alone is the cause of it. God bless you all and keep off all obstacles from the path in the struggle that begins tomorrow.')]"
      ]
     },
     "execution_count": 2,
     "metadata": {},
     "output_type": "execute_result"
    }
   ],
   "source": [
    "## Data Ingestion\n",
    "\n",
    "from langchain_community.document_loaders import TextLoader\n",
    "loader = TextLoader(\"speech.txt\")\n",
    "\n",
    "\n",
    "text_documents = loader.load()\n",
    "text_documents\n"
   ]
  },
  {
   "cell_type": "code",
   "execution_count": 3,
   "id": "6fa1bbea",
   "metadata": {},
   "outputs": [
    {
     "data": {
      "text/plain": [
       "True"
      ]
     },
     "execution_count": 3,
     "metadata": {},
     "output_type": "execute_result"
    }
   ],
   "source": [
    "import os\n",
    "from dotenv import load_dotenv\n",
    "load_dotenv()\n",
    "\n",
    "# os.environ[\"LANGCHAIN_API_KEY\"] = os.getenv(\"LANGCHAIN_API_KEY\")\n",
    "\n"
   ]
  },
  {
   "cell_type": "code",
   "execution_count": 4,
   "id": "63f67fe3",
   "metadata": {},
   "outputs": [
    {
     "name": "stderr",
     "output_type": "stream",
     "text": [
      "USER_AGENT environment variable not set, consider setting it to identify your requests.\n"
     ]
    }
   ],
   "source": [
    "## Reading from the Web-based loader (Another Data Ingestion technique)\n",
    "\n",
    "from langchain_community.document_loaders import WebBaseLoader\n",
    "import bs4\n",
    "\n",
    "## Load, chunk and index the content of the html page\n",
    "\n",
    "loader = WebBaseLoader(web_path=(\"https://lilianweng.github.io/posts/2021-05-31-contrastive/\",),\n",
    "                       bs_kwargs = dict(parse_only=bs4.SoupStrainer(\n",
    "                           class_ = (\"post-title\", \"post_content\", \"post_header\"))), )\n",
    "\n",
    "\n",
    "text_ducuments  = loader.load()\n"
   ]
  },
  {
   "cell_type": "code",
   "execution_count": 5,
   "id": "d0ff752f",
   "metadata": {},
   "outputs": [
    {
     "data": {
      "text/plain": [
       "[Document(metadata={'source': 'speech.txt'}, page_content='In all probability this will be my last speech to you. Even if the Government allow me to march tomorrow morning, this will be my last speech on the sacred banks of the Sabarmati. Possibly these may be the last words of my life here.\\n\\nI have already told you yesterday what I had to say. Today I shall confine myself to what you should do after my companions and I are arrested. The programme of the march to Jalalpur must be fulfilled as originally settled. The enlistment of the volunteers for this purpose should be confined to Gujarat only. From what I have been and heard during the last fortnight, I am inclined to believe that the stream of civil resisters will flow unbroken.\\n\\nBut let there be not a semblance of breach of peace even after all of us have been arrested. We have resolved to utilize all our resources in the pursuit of an exclusively nonviolent struggle. Let no one commit a wrong in anger. This is my hope and prayer. I wish these words of mine reached every nook and corner of the land. My task shall be done if I perish and so do my comrades. It will then be for the Working Committee of the Congress to show you the way and it will be up to you to follow its lead. So long as I have reached Jalalpur, let nothing be done in contravention to the authority vested in me by the Congress. But once I am arrested, the whole responsibility shifts to the Congress. No one who believes in non-violence, as a creed, need, therefore, sit still. My compact with the Congress ends as soon as I am arrested. In that case volunteers. Wherever possible, civil disobedience of salt should be started. These laws can be violated in three ways. It is an offence to manufacture salt wherever there are facilities for doing so. The possession and sale of contraband salt, which includes natural salt or salt earth, is also an offence. The purchasers of such salt will be equally guilty. To carry away the natural salt deposits on the seashore is likewise violation of law. So is the hawking of such salt. In short, you may choose any one or all of these devices to break the salt monopoly.\\n\\nWe are, however, not to be content with this alone. There is no ban by the Congress and wherever the local workers have self-confidence other suitable measures may be adopted. I stress only one condition, namely, let our pledge of truth and nonviolence as the only means for the attainment of Swaraj be faithfully kept. For the rest, every one has a free hand. But, than does not give a license to all and sundry to carry on their own responsibility. Wherever there are local leaders, their orders should be obeyed by the people. Where there are no leaders and only a handful of men have faith in the programme, they may do what they can, if they have enough self-confidence. They have a right, nay it is their duty, to do so. The history of the is full of instances of men who rose to leadership, by sheer force of self-confidence, bravery and tenacity. We too, if we sincerely aspire to Swaraj and are impatient to attain it, should have similar self-confidence. Our ranks will swell and our hearts strengthen, as the number of our arrests by the Government increases.\\n\\nMuch can be done in many other ways besides these. The Liquor and foreign cloth shops can be picketed. We can refuse to pay taxes if we have the requisite strength. The lawyers can give up practice. The public can boycott the law courts by refraining from litigation. Government servants can resign their posts. In the midst of the despair reigning all round people quake with fear of losing employment. Such men are unfit for Swaraj. But why this despair? The number of Government servants in the country does not exceed a few hundred thousands. What about the rest? Where are they to go? Even free India will not be able to accommodate a greater number of public servants. A Collector then will not need the number of servants, he has got today. He will be his own servant. Our starving millions can by no means afford this enormous expenditure. If, therefore, we are sensible enough, let us bid good-bye to Government employment, no matter if it is the post of a judge or a peon. Let all who are co-operating with the Government in one way or another, be it by paying taxes, keeping titles, or sending children to official schools, etc. withdraw their co-operation in all or as many watts as possible. Then there are women who can stand shoulder to shoulder with men in this struggle.\\n\\nYou may take it as my will. It was the message that I desired to impart to you before starting on the march or for the jail. I wish that there should be no suspension or abandonment of the war that commences tomorrow morning or earlier, if I am arrested before that time. I shall eagerly await the news that ten batches are ready as soon as my batch is arrested. I believe there are men in India to complete the work our begun by me. I have faith in the righteousness of our cause and the purity of our weapons. And where the means are clean, there God is undoubtedly present with His blessings. And where these three combine, there defeat is an impossibility. A Satyagrahi, whether free or incarcerated, is ever victorious. He is vanquished only, when he forsakes truth and nonviolence and turns a deaf ear to the inner voice. If, therefore, there is such a thing as defeat for even a Satyagrahi, he alone is the cause of it. God bless you all and keep off all obstacles from the path in the struggle that begins tomorrow.')]"
      ]
     },
     "execution_count": 5,
     "metadata": {},
     "output_type": "execute_result"
    }
   ],
   "source": [
    "text_documents"
   ]
  },
  {
   "cell_type": "code",
   "execution_count": 6,
   "id": "b426eb86",
   "metadata": {},
   "outputs": [],
   "source": [
    " ## PDF_Reader\n",
    "from langchain_community.document_loaders import PyPDFLoader\n",
    "loader = PyPDFLoader(\"VPR_Paper.pdf\")\n",
    "pdf_doc = loader.load()"
   ]
  },
  {
   "cell_type": "code",
   "execution_count": 7,
   "id": "e6ef4e60",
   "metadata": {},
   "outputs": [
    {
     "data": {
      "text/plain": [
       "[Document(metadata={'producer': 'PyPDF', 'creator': 'PyPDF', 'creationdate': '2025-04-07T03:51:40+00:00', 'author': 'Xueyi Wang, Lele Zhang, Zheng Fan, Yang Liu, Chen Chen, Fang Deng', 'keywords': 'Computer Vision(CV): CV: Image and Video Retrieval, Computer Vision(CV): CV: Applications', 'moddate': '2025-04-07T03:51:42+00:00', 'subject': 'The Thirty-Ninth AAAI Conference on Artificial Intelligence (AAAI-25)', 'title': 'From Coarse to Fine: A Matching and Alignment Framework for Unsupervised Cross-View Geo-Localization', 'source': 'VPR_Paper.pdf', 'total_pages': 9, 'page': 0, 'page_label': '1'}, page_content='From Coarse to Fine: A Matching and Alignment Framework for Unsupervised\\nCross-View Geo-Localization\\nXueyi Wang1, Lele Zhang1, Zheng Fan1, Yang Liu1, Chen Chen1, Fang Deng1,2*\\n1Beijing Institute of Technology\\n2Beijing Institute of Technology Chongqing Innovation Center\\n{wangxueyi, zhanglele, fanzheng, liuyang, xiaofan, dengfang}@bit.edu.cn\\nAbstract\\nCross-view geo-localization aims at determining the geo-\\ngraphic location of a query image by matching the reference\\nimages. The matching pairs can be captured from diverse per-\\nspectives, such as those from satellites and drones. Most ex-\\nisting methods are supervised that require input of location-\\nlabeled images or matched and unmatched image pairs for\\ntraining, resulting in high labor costs. Moreover, current un-\\nsupervised methods perform instances matching directly be-\\ntween different perspectives with dramatic discrepancies, re-\\nsulting in poor performance. To address these issues, this'),\n",
       " Document(metadata={'producer': 'PyPDF', 'creator': 'PyPDF', 'creationdate': '2025-04-07T03:51:40+00:00', 'author': 'Xueyi Wang, Lele Zhang, Zheng Fan, Yang Liu, Chen Chen, Fang Deng', 'keywords': 'Computer Vision(CV): CV: Image and Video Retrieval, Computer Vision(CV): CV: Applications', 'moddate': '2025-04-07T03:51:42+00:00', 'subject': 'The Thirty-Ninth AAAI Conference on Artificial Intelligence (AAAI-25)', 'title': 'From Coarse to Fine: A Matching and Alignment Framework for Unsupervised Cross-View Geo-Localization', 'source': 'VPR_Paper.pdf', 'total_pages': 9, 'page': 0, 'page_label': '1'}, page_content='supervised methods perform instances matching directly be-\\ntween different perspectives with dramatic discrepancies, re-\\nsulting in poor performance. To address these issues, this\\npaper proposes a novel matching and alignment framework\\nfrom coarse instance-cluster level to fine intermediate in-\\nstance level for unsupervised cross-view geo-localization. We\\nfirst introduces cluster-based contrastive learning, assigning\\npseudo-labels to the instances and generate clusters within\\neach view. Then we design a cross-view location alignment\\nmodule that fully exploits the feature relationships between\\ninstances and clusters for intra- and inter-views. Finally, we\\ndesign an intermediate state transition module that facilitates\\nfurther alignment between views by constructing intermedi-\\nate states and bringing both views closer to the intermediate\\ndomain simultaneously. Extensive experiments demonstrate\\nthat our method surpasses state-of-the-art unsupervised cross-'),\n",
       " Document(metadata={'producer': 'PyPDF', 'creator': 'PyPDF', 'creationdate': '2025-04-07T03:51:40+00:00', 'author': 'Xueyi Wang, Lele Zhang, Zheng Fan, Yang Liu, Chen Chen, Fang Deng', 'keywords': 'Computer Vision(CV): CV: Image and Video Retrieval, Computer Vision(CV): CV: Applications', 'moddate': '2025-04-07T03:51:42+00:00', 'subject': 'The Thirty-Ninth AAAI Conference on Artificial Intelligence (AAAI-25)', 'title': 'From Coarse to Fine: A Matching and Alignment Framework for Unsupervised Cross-View Geo-Localization', 'source': 'VPR_Paper.pdf', 'total_pages': 9, 'page': 0, 'page_label': '1'}, page_content='ate states and bringing both views closer to the intermediate\\ndomain simultaneously. Extensive experiments demonstrate\\nthat our method surpasses state-of-the-art unsupervised cross-\\nview geo-localization methods and even achieves comparable\\nperformance to state-of-the-art supervised methods.\\nIntroduction\\nCross-view geo-localization aims to locate an image by re-\\ntrieving images from the same location but different views\\nin a large-scale gallery (Workman, Souvenir, and Jacobs\\n2015). Different from traditional vision-based geometry\\ngeo-localization (Zhang et al. 2018; Deng et al. 2020; Gao\\net al. 2021; Zhang et al. 2022), this research is capable of\\nautonomous geo-localization in the absence or weakness of\\nthe global navigation satellite system (GNSS) signal, with\\nmore robust and flexible localization capabilities that enable\\nwidespread appliances across various domains, including\\nunmanned ground vehicles and drone localization and navi-'),\n",
       " Document(metadata={'producer': 'PyPDF', 'creator': 'PyPDF', 'creationdate': '2025-04-07T03:51:40+00:00', 'author': 'Xueyi Wang, Lele Zhang, Zheng Fan, Yang Liu, Chen Chen, Fang Deng', 'keywords': 'Computer Vision(CV): CV: Image and Video Retrieval, Computer Vision(CV): CV: Applications', 'moddate': '2025-04-07T03:51:42+00:00', 'subject': 'The Thirty-Ninth AAAI Conference on Artificial Intelligence (AAAI-25)', 'title': 'From Coarse to Fine: A Matching and Alignment Framework for Unsupervised Cross-View Geo-Localization', 'source': 'VPR_Paper.pdf', 'total_pages': 9, 'page': 0, 'page_label': '1'}, page_content='more robust and flexible localization capabilities that enable\\nwidespread appliances across various domains, including\\nunmanned ground vehicles and drone localization and navi-\\ngation in GNSS-denied environments (Shetty and Gao 2019;\\nShi et al. 2020a). Images captured from ground and satel-\\nlite perspectives are frequently utilized in cross-view geo-\\n*Corresponding author\\nCopyright © 2025, Association for the Advancement of Artificial\\nIntelligence (www.aaai.org). All rights reserved.\\nlocalization (Liu and Li 2019; Shi et al. 2020b, 2019; Sun\\net al. 2019). However, cross-view geo-localization remains\\na major challenge due to the orthogonality of the two views,\\nresulting in limited feature intersections. The advancement\\nof drone technology has introduced drone view to enhance\\ncross-view geo-localization(Zheng, Wei, and Yang 2020;\\nLin et al. 2022; Sun, Liu, and Yuan 2023; Wang et al. 2022).\\nThe drone view plays a transitional role in image match-'),\n",
       " Document(metadata={'producer': 'PyPDF', 'creator': 'PyPDF', 'creationdate': '2025-04-07T03:51:40+00:00', 'author': 'Xueyi Wang, Lele Zhang, Zheng Fan, Yang Liu, Chen Chen, Fang Deng', 'keywords': 'Computer Vision(CV): CV: Image and Video Retrieval, Computer Vision(CV): CV: Applications', 'moddate': '2025-04-07T03:51:42+00:00', 'subject': 'The Thirty-Ninth AAAI Conference on Artificial Intelligence (AAAI-25)', 'title': 'From Coarse to Fine: A Matching and Alignment Framework for Unsupervised Cross-View Geo-Localization', 'source': 'VPR_Paper.pdf', 'total_pages': 9, 'page': 0, 'page_label': '1'}, page_content='cross-view geo-localization(Zheng, Wei, and Yang 2020;\\nLin et al. 2022; Sun, Liu, and Yuan 2023; Wang et al. 2022).\\nThe drone view plays a transitional role in image match-\\ning between the ground and satellite views, and images col-\\nlected from the drone have more features overlapping with\\nthe images from the other two views. Therefore, drone-\\nsatellite geo-localization is proposed, including drone-view\\ntarget localization and drone navigation (Zheng, Wei, and\\nYang 2020). The former aims to locate the target by retriev-\\ning the corresponding satellite image. The latter is to guide\\nthe drone to its destination by matching the given satellite\\nimage with the drone image located at the same location in\\nthe gallery.\\nRecently, more and more cross-view geo-localization\\ndatasets with labels have been proposed (Zhu, Yang, and\\nChen 2021; Zheng, Wei, and Yang 2020). Leveraging these\\ndatasets, cross-view geo-localization has achieved excel-')]"
      ]
     },
     "execution_count": 7,
     "metadata": {},
     "output_type": "execute_result"
    }
   ],
   "source": [
    "from langchain.text_splitter import RecursiveCharacterTextSplitter\n",
    "text_splitter = RecursiveCharacterTextSplitter(chunk_size = 1000, chunk_overlap = 200)\n",
    "documents = text_splitter.split_documents(pdf_doc)\n",
    "\n",
    "documents[:5]"
   ]
  },
  {
   "cell_type": "markdown",
   "id": "0f681d25",
   "metadata": {},
   "source": [
    "### Loading Source datam DONE, Next is \"Transform\" part from load, tramsform, embed"
   ]
  },
  {
   "cell_type": "code",
   "execution_count": 8,
   "id": "40b6d032",
   "metadata": {},
   "outputs": [
    {
     "name": "stderr",
     "output_type": "stream",
     "text": [
      "/tmp/ipykernel_383070/446141942.py:7: LangChainDeprecationWarning: The class `OllamaEmbeddings` was deprecated in LangChain 0.3.1 and will be removed in 1.0.0. An updated version of the class exists in the :class:`~langchain-ollama package and should be used instead. To use it run `pip install -U :class:`~langchain-ollama` and import as `from :class:`~langchain_ollama import OllamaEmbeddings``.\n",
      "  db = Chroma.from_documents(documents[:30], OllamaEmbeddings(model =\"all-minilm\")) ## You need to download this embedding model using `ollama pull all-minilm`\n"
     ]
    }
   ],
   "source": [
    "## Vector Embedding and Vecor Store\n",
    "# from langchain_community.embeddings import OpenAIEmbeddings\n",
    "from langchain_community.embeddings import OllamaEmbeddings\n",
    "\n",
    "from langchain_community.vectorstores import Chroma\n",
    "## this db (below) will be our Vector Database\n",
    "db = Chroma.from_documents(documents[:30], OllamaEmbeddings(model =\"all-minilm\")) ## You need to download this embedding model using `ollama pull all-minilm` "
   ]
  },
  {
   "cell_type": "code",
   "execution_count": 9,
   "id": "1c600bba",
   "metadata": {},
   "outputs": [
    {
     "data": {
      "text/plain": [
       "[Document(metadata={'total_pages': 9, 'keywords': 'Computer Vision(CV): CV: Image and Video Retrieval, Computer Vision(CV): CV: Applications', 'title': 'From Coarse to Fine: A Matching and Alignment Framework for Unsupervised Cross-View Geo-Localization', 'subject': 'The Thirty-Ninth AAAI Conference on Artificial Intelligence (AAAI-25)', 'author': 'Xueyi Wang, Lele Zhang, Zheng Fan, Yang Liu, Chen Chen, Fang Deng', 'creator': 'PyPDF', 'page': 0, 'creationdate': '2025-04-07T03:51:40+00:00', 'moddate': '2025-04-07T03:51:42+00:00', 'page_label': '1', 'source': 'VPR_Paper.pdf', 'producer': 'PyPDF'}, page_content='ate states and bringing both views closer to the intermediate\\ndomain simultaneously. Extensive experiments demonstrate\\nthat our method surpasses state-of-the-art unsupervised cross-\\nview geo-localization methods and even achieves comparable\\nperformance to state-of-the-art supervised methods.\\nIntroduction\\nCross-view geo-localization aims to locate an image by re-\\ntrieving images from the same location but different views\\nin a large-scale gallery (Workman, Souvenir, and Jacobs\\n2015). Different from traditional vision-based geometry\\ngeo-localization (Zhang et al. 2018; Deng et al. 2020; Gao\\net al. 2021; Zhang et al. 2022), this research is capable of\\nautonomous geo-localization in the absence or weakness of\\nthe global navigation satellite system (GNSS) signal, with\\nmore robust and flexible localization capabilities that enable\\nwidespread appliances across various domains, including\\nunmanned ground vehicles and drone localization and navi-'),\n",
       " Document(metadata={'moddate': '2025-04-07T03:51:42+00:00', 'creationdate': '2025-04-07T03:51:40+00:00', 'producer': 'PyPDF', 'subject': 'The Thirty-Ninth AAAI Conference on Artificial Intelligence (AAAI-25)', 'total_pages': 9, 'title': 'From Coarse to Fine: A Matching and Alignment Framework for Unsupervised Cross-View Geo-Localization', 'creator': 'PyPDF', 'page': 0, 'source': 'VPR_Paper.pdf', 'keywords': 'Computer Vision(CV): CV: Image and Video Retrieval, Computer Vision(CV): CV: Applications', 'page_label': '1', 'author': 'Xueyi Wang, Lele Zhang, Zheng Fan, Yang Liu, Chen Chen, Fang Deng'}, page_content='matched image pairs, which significantly consumes time and\\nhuman labor. In addition, not all images in reality come with\\nmatched images in another view or location tags. Therefore,\\nwe introduce the unsupervised method for cross-view geo-\\nlocalization. Our objective is to learn view-invariant features\\nand distinguish different location classes to achieve cross-\\nview matching in cases where the image labels are unknown\\nand no matching image pairs can be found.\\nFor unsupervised cross-view geo-localization, there are\\ntwo main challenges in bridging the gap between views and\\nperforming intra- and inter-view location associations of im-\\nThe Thirty-Ninth AAAI Conference on Artificial Intelligence (AAAI-25)\\n8024'),\n",
       " Document(metadata={'title': 'From Coarse to Fine: A Matching and Alignment Framework for Unsupervised Cross-View Geo-Localization', 'total_pages': 9, 'page': 0, 'producer': 'PyPDF', 'keywords': 'Computer Vision(CV): CV: Image and Video Retrieval, Computer Vision(CV): CV: Applications', 'creator': 'PyPDF', 'creationdate': '2025-04-07T03:51:40+00:00', 'page_label': '1', 'source': 'VPR_Paper.pdf', 'moddate': '2025-04-07T03:51:42+00:00', 'subject': 'The Thirty-Ninth AAAI Conference on Artificial Intelligence (AAAI-25)', 'author': 'Xueyi Wang, Lele Zhang, Zheng Fan, Yang Liu, Chen Chen, Fang Deng'}, page_content='cross-view geo-localization(Zheng, Wei, and Yang 2020;\\nLin et al. 2022; Sun, Liu, and Yuan 2023; Wang et al. 2022).\\nThe drone view plays a transitional role in image match-\\ning between the ground and satellite views, and images col-\\nlected from the drone have more features overlapping with\\nthe images from the other two views. Therefore, drone-\\nsatellite geo-localization is proposed, including drone-view\\ntarget localization and drone navigation (Zheng, Wei, and\\nYang 2020). The former aims to locate the target by retriev-\\ning the corresponding satellite image. The latter is to guide\\nthe drone to its destination by matching the given satellite\\nimage with the drone image located at the same location in\\nthe gallery.\\nRecently, more and more cross-view geo-localization\\ndatasets with labels have been proposed (Zhu, Yang, and\\nChen 2021; Zheng, Wei, and Yang 2020). Leveraging these\\ndatasets, cross-view geo-localization has achieved excel-'),\n",
       " Document(metadata={'author': 'Xueyi Wang, Lele Zhang, Zheng Fan, Yang Liu, Chen Chen, Fang Deng', 'subject': 'The Thirty-Ninth AAAI Conference on Artificial Intelligence (AAAI-25)', 'creationdate': '2025-04-07T03:51:40+00:00', 'total_pages': 9, 'keywords': 'Computer Vision(CV): CV: Image and Video Retrieval, Computer Vision(CV): CV: Applications', 'moddate': '2025-04-07T03:51:42+00:00', 'title': 'From Coarse to Fine: A Matching and Alignment Framework for Unsupervised Cross-View Geo-Localization', 'page_label': '1', 'source': 'VPR_Paper.pdf', 'producer': 'PyPDF', 'creator': 'PyPDF', 'page': 0}, page_content='more robust and flexible localization capabilities that enable\\nwidespread appliances across various domains, including\\nunmanned ground vehicles and drone localization and navi-\\ngation in GNSS-denied environments (Shetty and Gao 2019;\\nShi et al. 2020a). Images captured from ground and satel-\\nlite perspectives are frequently utilized in cross-view geo-\\n*Corresponding author\\nCopyright © 2025, Association for the Advancement of Artificial\\nIntelligence (www.aaai.org). All rights reserved.\\nlocalization (Liu and Li 2019; Shi et al. 2020b, 2019; Sun\\net al. 2019). However, cross-view geo-localization remains\\na major challenge due to the orthogonality of the two views,\\nresulting in limited feature intersections. The advancement\\nof drone technology has introduced drone view to enhance\\ncross-view geo-localization(Zheng, Wei, and Yang 2020;\\nLin et al. 2022; Sun, Liu, and Yuan 2023; Wang et al. 2022).\\nThe drone view plays a transitional role in image match-')]"
      ]
     },
     "execution_count": 9,
     "metadata": {},
     "output_type": "execute_result"
    }
   ],
   "source": [
    "## CHROMA Vector database\n",
    "query = \"Who is Cross-View Geo Localization?\"\n",
    "result = db.similarity_search(query)\n",
    "\n",
    "result"
   ]
  },
  {
   "cell_type": "code",
   "execution_count": 12,
   "id": "17c67a2b",
   "metadata": {},
   "outputs": [
    {
     "data": {
      "text/plain": [
       "<langchain_community.vectorstores.faiss.FAISS at 0x7a8cc4bfffd0>"
      ]
     },
     "execution_count": 12,
     "metadata": {},
     "output_type": "execute_result"
    }
   ],
   "source": [
    "## FAISS Vector Database\n",
    "from langchain_community.vectorstores import FAISS\n",
    "db = FAISS.from_documents(documents[:30], OllamaEmbeddings(model =\"mxbai-embed-large\"))\n",
    "db"
   ]
  },
  {
   "cell_type": "code",
   "execution_count": 11,
   "id": "e8e0bc0d",
   "metadata": {},
   "outputs": [
    {
     "data": {
      "text/plain": [
       "'ate states and bringing both views closer to the intermediate\\ndomain simultaneously. Extensive experiments demonstrate\\nthat our method surpasses state-of-the-art unsupervised cross-\\nview geo-localization methods and even achieves comparable\\nperformance to state-of-the-art supervised methods.\\nIntroduction\\nCross-view geo-localization aims to locate an image by re-\\ntrieving images from the same location but different views\\nin a large-scale gallery (Workman, Souvenir, and Jacobs\\n2015). Different from traditional vision-based geometry\\ngeo-localization (Zhang et al. 2018; Deng et al. 2020; Gao\\net al. 2021; Zhang et al. 2022), this research is capable of\\nautonomous geo-localization in the absence or weakness of\\nthe global navigation satellite system (GNSS) signal, with\\nmore robust and flexible localization capabilities that enable\\nwidespread appliances across various domains, including\\nunmanned ground vehicles and drone localization and navi-'"
      ]
     },
     "execution_count": 11,
     "metadata": {},
     "output_type": "execute_result"
    }
   ],
   "source": [
    "query = \"What is Cross-View Geo Localization?\"\n",
    "result = db.similarity_search(query)\n",
    "result[0].page_content"
   ]
  },
  {
   "cell_type": "code",
   "execution_count": null,
   "id": "88124fe0",
   "metadata": {},
   "outputs": [],
   "source": [
    "from langchain_community import Ollama\n",
    "llm = Ollama(model = \"llama2\")\n"
   ]
  },
  {
   "cell_type": "code",
   "execution_count": null,
   "id": "aafe97fc",
   "metadata": {},
   "outputs": [],
   "source": []
  }
 ],
 "metadata": {
  "kernelspec": {
   "display_name": "genai",
   "language": "python",
   "name": "python3"
  },
  "language_info": {
   "codemirror_mode": {
    "name": "ipython",
    "version": 3
   },
   "file_extension": ".py",
   "mimetype": "text/x-python",
   "name": "python",
   "nbconvert_exporter": "python",
   "pygments_lexer": "ipython3",
   "version": "3.10.18"
  }
 },
 "nbformat": 4,
 "nbformat_minor": 5
}
